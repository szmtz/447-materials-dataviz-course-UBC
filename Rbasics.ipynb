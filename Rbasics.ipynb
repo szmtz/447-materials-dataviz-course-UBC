{
  "nbformat": 4,
  "nbformat_minor": 0,
  "metadata": {
    "colab": {
      "provenance": [],
      "authorship_tag": "ABX9TyNQKzvZvYaIpaNulvlpxdF1",
      "include_colab_link": true
    },
    "kernelspec": {
      "name": "ir",
      "display_name": "R"
    },
    "language_info": {
      "name": "R"
    }
  },
  "cells": [
    {
      "cell_type": "markdown",
      "metadata": {
        "id": "view-in-github",
        "colab_type": "text"
      },
      "source": [
        "<a href=\"https://colab.research.google.com/github/szmtz/447-materials-dataviz-course-UBC/blob/main/Rbasics.ipynb\" target=\"_parent\"><img src=\"https://colab.research.google.com/assets/colab-badge.svg\" alt=\"Open In Colab\"/></a>"
      ]
    },
    {
      "cell_type": "code",
      "execution_count": null,
      "metadata": {
        "colab": {
          "base_uri": "https://localhost:8080/",
          "height": 34
        },
        "id": "J8tJOqRl3wvm",
        "outputId": "cfc3290f-d55c-4005-f5a1-6f74a50866fd"
      },
      "outputs": [
        {
          "output_type": "display_data",
          "data": {
            "text/html": [
              "2"
            ],
            "text/markdown": "2",
            "text/latex": "2",
            "text/plain": [
              "[1] 2"
            ]
          },
          "metadata": {}
        }
      ],
      "source": [
        "1 + 1\n"
      ]
    },
    {
      "cell_type": "code",
      "source": [
        "birthdate <- (06)\n",
        "print(birthdate)"
      ],
      "metadata": {
        "colab": {
          "base_uri": "https://localhost:8080/"
        },
        "id": "YmcCJ3ZC4Gw0",
        "outputId": "c8ab72bd-0490-4b1e-e7a7-065470fd001a"
      },
      "execution_count": null,
      "outputs": [
        {
          "output_type": "stream",
          "name": "stdout",
          "text": [
            "[1] 6\n"
          ]
        }
      ]
    },
    {
      "cell_type": "code",
      "source": [
        "# if statement\n",
        "\n",
        "message <- \"I change based on a condition.\"\n",
        "\n",
        "if (TRUE) {\n",
        "  message <- \"I execute this when true!\"\n",
        "} else {\n",
        "  message <- \"I execute this when false!\"\n",
        "}\n",
        "\n",
        "print(message)\n",
        "\n"
      ],
      "metadata": {
        "id": "-IPu5ZzU70X-",
        "outputId": "7f7b51d5-21ef-4555-e455-d762a1559d70",
        "colab": {
          "base_uri": "https://localhost:8080/"
        }
      },
      "execution_count": null,
      "outputs": [
        {
          "output_type": "stream",
          "name": "stdout",
          "text": [
            "[1] \"I execute this when true!\"\n"
          ]
        }
      ]
    },
    {
      "cell_type": "code",
      "source": [],
      "metadata": {
        "id": "-0gAf7CE-qMS"
      },
      "execution_count": null,
      "outputs": []
    }
  ]
}